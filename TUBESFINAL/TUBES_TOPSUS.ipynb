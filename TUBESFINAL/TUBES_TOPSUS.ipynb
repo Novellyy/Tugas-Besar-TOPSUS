{
  "nbformat": 4,
  "nbformat_minor": 0,
  "metadata": {
    "colab": {
      "name": "TUBES TOPSUS.ipynb",
      "provenance": [],
      "collapsed_sections": []
    },
    "kernelspec": {
      "name": "python3",
      "display_name": "Python 3"
    }
  },
  "cells": [
    {
      "cell_type": "code",
      "metadata": {
        "id": "YFe2Ub1Dg0lR",
        "colab_type": "code",
        "outputId": "feb4012c-6b19-4a77-88dc-c2f5ed676231",
        "colab": {
          "base_uri": "https://localhost:8080/",
          "height": 221
        }
      },
      "source": [
        "pip install yfinance"
      ],
      "execution_count": 239,
      "outputs": [
        {
          "output_type": "stream",
          "text": [
            "Requirement already satisfied: yfinance in /usr/local/lib/python3.6/dist-packages (0.1.54)\n",
            "Requirement already satisfied: multitasking>=0.0.7 in /usr/local/lib/python3.6/dist-packages (from yfinance) (0.0.9)\n",
            "Requirement already satisfied: numpy>=1.15 in /usr/local/lib/python3.6/dist-packages (from yfinance) (1.18.3)\n",
            "Requirement already satisfied: pandas>=0.24 in /usr/local/lib/python3.6/dist-packages (from yfinance) (1.0.3)\n",
            "Requirement already satisfied: requests>=2.20 in /usr/local/lib/python3.6/dist-packages (from yfinance) (2.21.0)\n",
            "Requirement already satisfied: pytz>=2017.2 in /usr/local/lib/python3.6/dist-packages (from pandas>=0.24->yfinance) (2018.9)\n",
            "Requirement already satisfied: python-dateutil>=2.6.1 in /usr/local/lib/python3.6/dist-packages (from pandas>=0.24->yfinance) (2.8.1)\n",
            "Requirement already satisfied: urllib3<1.25,>=1.21.1 in /usr/local/lib/python3.6/dist-packages (from requests>=2.20->yfinance) (1.24.3)\n",
            "Requirement already satisfied: chardet<3.1.0,>=3.0.2 in /usr/local/lib/python3.6/dist-packages (from requests>=2.20->yfinance) (3.0.4)\n",
            "Requirement already satisfied: idna<2.9,>=2.5 in /usr/local/lib/python3.6/dist-packages (from requests>=2.20->yfinance) (2.8)\n",
            "Requirement already satisfied: certifi>=2017.4.17 in /usr/local/lib/python3.6/dist-packages (from requests>=2.20->yfinance) (2020.4.5.1)\n",
            "Requirement already satisfied: six>=1.5 in /usr/local/lib/python3.6/dist-packages (from python-dateutil>=2.6.1->pandas>=0.24->yfinance) (1.12.0)\n"
          ],
          "name": "stdout"
        }
      ]
    },
    {
      "cell_type": "code",
      "metadata": {
        "id": "cDbX1Wx5q2tJ",
        "colab_type": "code",
        "colab": {}
      },
      "source": [
        "import numpy as np\n",
        "import pandas as pd\n",
        "from matplotlib import pyplot as plt"
      ],
      "execution_count": 0,
      "outputs": []
    },
    {
      "cell_type": "code",
      "metadata": {
        "id": "k68cWVG2kGdu",
        "colab_type": "code",
        "outputId": "de5f64b3-1e25-4a74-963b-c795d9ba5a67",
        "colab": {
          "base_uri": "https://localhost:8080/",
          "height": 235
        }
      },
      "source": [
        "import yfinance as yf\n",
        "saham = ['BBCA.JK','BBRI.JK','TLKM.JK','UNVR.JK','ICBP.JK']\n",
        "saham.sort()\n",
        "data = yf.download(saham, start='2017-01-01', end='2017-12-31',progress=False, interval='1wk')['Close']\n",
        "data.head()"
      ],
      "execution_count": 241,
      "outputs": [
        {
          "output_type": "execute_result",
          "data": {
            "text/html": [
              "<div>\n",
              "<style scoped>\n",
              "    .dataframe tbody tr th:only-of-type {\n",
              "        vertical-align: middle;\n",
              "    }\n",
              "\n",
              "    .dataframe tbody tr th {\n",
              "        vertical-align: top;\n",
              "    }\n",
              "\n",
              "    .dataframe thead th {\n",
              "        text-align: right;\n",
              "    }\n",
              "</style>\n",
              "<table border=\"1\" class=\"dataframe\">\n",
              "  <thead>\n",
              "    <tr style=\"text-align: right;\">\n",
              "      <th></th>\n",
              "      <th>BBCA.JK</th>\n",
              "      <th>BBRI.JK</th>\n",
              "      <th>ICBP.JK</th>\n",
              "      <th>TLKM.JK</th>\n",
              "      <th>UNVR.JK</th>\n",
              "    </tr>\n",
              "    <tr>\n",
              "      <th>Date</th>\n",
              "      <th></th>\n",
              "      <th></th>\n",
              "      <th></th>\n",
              "      <th></th>\n",
              "      <th></th>\n",
              "    </tr>\n",
              "  </thead>\n",
              "  <tbody>\n",
              "    <tr>\n",
              "      <th>2017-01-01</th>\n",
              "      <td>15600.0</td>\n",
              "      <td>2420.0</td>\n",
              "      <td>8525.0</td>\n",
              "      <td>4000.0</td>\n",
              "      <td>8120.0</td>\n",
              "    </tr>\n",
              "    <tr>\n",
              "      <th>2017-01-08</th>\n",
              "      <td>15275.0</td>\n",
              "      <td>2390.0</td>\n",
              "      <td>8525.0</td>\n",
              "      <td>3950.0</td>\n",
              "      <td>7920.0</td>\n",
              "    </tr>\n",
              "    <tr>\n",
              "      <th>2017-01-15</th>\n",
              "      <td>15250.0</td>\n",
              "      <td>2360.0</td>\n",
              "      <td>8500.0</td>\n",
              "      <td>3830.0</td>\n",
              "      <td>8100.0</td>\n",
              "    </tr>\n",
              "    <tr>\n",
              "      <th>2017-01-22</th>\n",
              "      <td>15400.0</td>\n",
              "      <td>2345.0</td>\n",
              "      <td>8550.0</td>\n",
              "      <td>3890.0</td>\n",
              "      <td>8340.0</td>\n",
              "    </tr>\n",
              "    <tr>\n",
              "      <th>2017-01-29</th>\n",
              "      <td>15475.0</td>\n",
              "      <td>2400.0</td>\n",
              "      <td>8450.0</td>\n",
              "      <td>3950.0</td>\n",
              "      <td>8400.0</td>\n",
              "    </tr>\n",
              "  </tbody>\n",
              "</table>\n",
              "</div>"
            ],
            "text/plain": [
              "            BBCA.JK  BBRI.JK  ICBP.JK  TLKM.JK  UNVR.JK\n",
              "Date                                                   \n",
              "2017-01-01  15600.0   2420.0   8525.0   4000.0   8120.0\n",
              "2017-01-08  15275.0   2390.0   8525.0   3950.0   7920.0\n",
              "2017-01-15  15250.0   2360.0   8500.0   3830.0   8100.0\n",
              "2017-01-22  15400.0   2345.0   8550.0   3890.0   8340.0\n",
              "2017-01-29  15475.0   2400.0   8450.0   3950.0   8400.0"
            ]
          },
          "metadata": {
            "tags": []
          },
          "execution_count": 241
        }
      ]
    },
    {
      "cell_type": "code",
      "metadata": {
        "id": "vbZNZcWDuCYZ",
        "colab_type": "code",
        "outputId": "2a9adbc3-b0bb-4657-9e80-2d27ae620853",
        "colab": {
          "base_uri": "https://localhost:8080/",
          "height": 235
        }
      },
      "source": [
        "#Nge-return data saham mingguan\n",
        "return_mingguan = data.pct_change()\n",
        "return_mingguan.head()"
      ],
      "execution_count": 242,
      "outputs": [
        {
          "output_type": "execute_result",
          "data": {
            "text/html": [
              "<div>\n",
              "<style scoped>\n",
              "    .dataframe tbody tr th:only-of-type {\n",
              "        vertical-align: middle;\n",
              "    }\n",
              "\n",
              "    .dataframe tbody tr th {\n",
              "        vertical-align: top;\n",
              "    }\n",
              "\n",
              "    .dataframe thead th {\n",
              "        text-align: right;\n",
              "    }\n",
              "</style>\n",
              "<table border=\"1\" class=\"dataframe\">\n",
              "  <thead>\n",
              "    <tr style=\"text-align: right;\">\n",
              "      <th></th>\n",
              "      <th>BBCA.JK</th>\n",
              "      <th>BBRI.JK</th>\n",
              "      <th>ICBP.JK</th>\n",
              "      <th>TLKM.JK</th>\n",
              "      <th>UNVR.JK</th>\n",
              "    </tr>\n",
              "    <tr>\n",
              "      <th>Date</th>\n",
              "      <th></th>\n",
              "      <th></th>\n",
              "      <th></th>\n",
              "      <th></th>\n",
              "      <th></th>\n",
              "    </tr>\n",
              "  </thead>\n",
              "  <tbody>\n",
              "    <tr>\n",
              "      <th>2017-01-01</th>\n",
              "      <td>NaN</td>\n",
              "      <td>NaN</td>\n",
              "      <td>NaN</td>\n",
              "      <td>NaN</td>\n",
              "      <td>NaN</td>\n",
              "    </tr>\n",
              "    <tr>\n",
              "      <th>2017-01-08</th>\n",
              "      <td>-0.020833</td>\n",
              "      <td>-0.012397</td>\n",
              "      <td>0.000000</td>\n",
              "      <td>-0.012500</td>\n",
              "      <td>-0.024631</td>\n",
              "    </tr>\n",
              "    <tr>\n",
              "      <th>2017-01-15</th>\n",
              "      <td>-0.001637</td>\n",
              "      <td>-0.012552</td>\n",
              "      <td>-0.002933</td>\n",
              "      <td>-0.030380</td>\n",
              "      <td>0.022727</td>\n",
              "    </tr>\n",
              "    <tr>\n",
              "      <th>2017-01-22</th>\n",
              "      <td>0.009836</td>\n",
              "      <td>-0.006356</td>\n",
              "      <td>0.005882</td>\n",
              "      <td>0.015666</td>\n",
              "      <td>0.029630</td>\n",
              "    </tr>\n",
              "    <tr>\n",
              "      <th>2017-01-29</th>\n",
              "      <td>0.004870</td>\n",
              "      <td>0.023454</td>\n",
              "      <td>-0.011696</td>\n",
              "      <td>0.015424</td>\n",
              "      <td>0.007194</td>\n",
              "    </tr>\n",
              "  </tbody>\n",
              "</table>\n",
              "</div>"
            ],
            "text/plain": [
              "             BBCA.JK   BBRI.JK   ICBP.JK   TLKM.JK   UNVR.JK\n",
              "Date                                                        \n",
              "2017-01-01       NaN       NaN       NaN       NaN       NaN\n",
              "2017-01-08 -0.020833 -0.012397  0.000000 -0.012500 -0.024631\n",
              "2017-01-15 -0.001637 -0.012552 -0.002933 -0.030380  0.022727\n",
              "2017-01-22  0.009836 -0.006356  0.005882  0.015666  0.029630\n",
              "2017-01-29  0.004870  0.023454 -0.011696  0.015424  0.007194"
            ]
          },
          "metadata": {
            "tags": []
          },
          "execution_count": 242
        }
      ]
    },
    {
      "cell_type": "code",
      "metadata": {
        "id": "RfpsfwUc_IEA",
        "colab_type": "code",
        "outputId": "acb405a5-7556-4698-96be-7a639ed6210a",
        "colab": {
          "base_uri": "https://localhost:8080/",
          "height": 119
        }
      },
      "source": [
        "#Nge-return rata-rata mingguan\n",
        "return_rata = return_mingguan.mean()\n",
        "return_rata.head()"
      ],
      "execution_count": 243,
      "outputs": [
        {
          "output_type": "execute_result",
          "data": {
            "text/plain": [
              "BBCA.JK    0.005813\n",
              "BBRI.JK    0.007102\n",
              "ICBP.JK    0.001005\n",
              "TLKM.JK    0.001956\n",
              "UNVR.JK    0.005498\n",
              "dtype: float64"
            ]
          },
          "metadata": {
            "tags": []
          },
          "execution_count": 243
        }
      ]
    },
    {
      "cell_type": "code",
      "metadata": {
        "id": "1hu3hv4lBLp_",
        "colab_type": "code",
        "outputId": "c2ce6e87-ba0e-4142-caa4-e8cb1bb24afd",
        "colab": {
          "base_uri": "https://localhost:8080/",
          "height": 119
        }
      },
      "source": [
        "print(str(round(return_rata * 100,2)) + '%')"
      ],
      "execution_count": 244,
      "outputs": [
        {
          "output_type": "stream",
          "text": [
            "BBCA.JK    0.58\n",
            "BBRI.JK    0.71\n",
            "ICBP.JK    0.10\n",
            "TLKM.JK    0.20\n",
            "UNVR.JK    0.55\n",
            "dtype: float64%\n"
          ],
          "name": "stdout"
        }
      ]
    },
    {
      "cell_type": "code",
      "metadata": {
        "id": "3iDlzFafBqVS",
        "colab_type": "code",
        "outputId": "1b965bd3-ffb9-45b3-9d1c-6ef4fee2413b",
        "colab": {
          "base_uri": "https://localhost:8080/",
          "height": 204
        }
      },
      "source": [
        "#Covariansi\n",
        "df = return_mingguan.cov()\n",
        "df.head()"
      ],
      "execution_count": 245,
      "outputs": [
        {
          "output_type": "execute_result",
          "data": {
            "text/html": [
              "<div>\n",
              "<style scoped>\n",
              "    .dataframe tbody tr th:only-of-type {\n",
              "        vertical-align: middle;\n",
              "    }\n",
              "\n",
              "    .dataframe tbody tr th {\n",
              "        vertical-align: top;\n",
              "    }\n",
              "\n",
              "    .dataframe thead th {\n",
              "        text-align: right;\n",
              "    }\n",
              "</style>\n",
              "<table border=\"1\" class=\"dataframe\">\n",
              "  <thead>\n",
              "    <tr style=\"text-align: right;\">\n",
              "      <th></th>\n",
              "      <th>BBCA.JK</th>\n",
              "      <th>BBRI.JK</th>\n",
              "      <th>ICBP.JK</th>\n",
              "      <th>TLKM.JK</th>\n",
              "      <th>UNVR.JK</th>\n",
              "    </tr>\n",
              "  </thead>\n",
              "  <tbody>\n",
              "    <tr>\n",
              "      <th>BBCA.JK</th>\n",
              "      <td>0.000295</td>\n",
              "      <td>0.000122</td>\n",
              "      <td>0.000110</td>\n",
              "      <td>0.000090</td>\n",
              "      <td>0.000075</td>\n",
              "    </tr>\n",
              "    <tr>\n",
              "      <th>BBRI.JK</th>\n",
              "      <td>0.000122</td>\n",
              "      <td>0.000572</td>\n",
              "      <td>0.000191</td>\n",
              "      <td>0.000157</td>\n",
              "      <td>0.000150</td>\n",
              "    </tr>\n",
              "    <tr>\n",
              "      <th>ICBP.JK</th>\n",
              "      <td>0.000110</td>\n",
              "      <td>0.000191</td>\n",
              "      <td>0.000591</td>\n",
              "      <td>0.000109</td>\n",
              "      <td>0.000169</td>\n",
              "    </tr>\n",
              "    <tr>\n",
              "      <th>TLKM.JK</th>\n",
              "      <td>0.000090</td>\n",
              "      <td>0.000157</td>\n",
              "      <td>0.000109</td>\n",
              "      <td>0.000442</td>\n",
              "      <td>0.000149</td>\n",
              "    </tr>\n",
              "    <tr>\n",
              "      <th>UNVR.JK</th>\n",
              "      <td>0.000075</td>\n",
              "      <td>0.000150</td>\n",
              "      <td>0.000169</td>\n",
              "      <td>0.000149</td>\n",
              "      <td>0.000317</td>\n",
              "    </tr>\n",
              "  </tbody>\n",
              "</table>\n",
              "</div>"
            ],
            "text/plain": [
              "          BBCA.JK   BBRI.JK   ICBP.JK   TLKM.JK   UNVR.JK\n",
              "BBCA.JK  0.000295  0.000122  0.000110  0.000090  0.000075\n",
              "BBRI.JK  0.000122  0.000572  0.000191  0.000157  0.000150\n",
              "ICBP.JK  0.000110  0.000191  0.000591  0.000109  0.000169\n",
              "TLKM.JK  0.000090  0.000157  0.000109  0.000442  0.000149\n",
              "UNVR.JK  0.000075  0.000150  0.000169  0.000149  0.000317"
            ]
          },
          "metadata": {
            "tags": []
          },
          "execution_count": 245
        }
      ]
    },
    {
      "cell_type": "code",
      "metadata": {
        "id": "Ut-RQSbMDgI2",
        "colab_type": "code",
        "outputId": "4e45c816-02b0-4e77-f24d-fa0cd09e9267",
        "colab": {
          "base_uri": "https://localhost:8080/",
          "height": 119
        }
      },
      "source": [
        "#Portofolio Minim Resiko\n",
        "from numpy.linalg import inv\n",
        "u = np.array([1,1,1,1,1])\n",
        "uT = np.transpose(u)\n",
        "Cinverse = inv(df)\n",
        "wopt1 = np.dot(u,Cinverse)/(u.dot(Cinverse).dot(uT))\n",
        "print(\"Hasil Minim Resiko adalah :\")\n",
        "print(\"w1 =\",wopt[0])\n",
        "print(\"w2 =\",wopt[1])\n",
        "print(\"w3 =\",wopt[2])\n",
        "print(\"w4 =\",wopt[3])\n",
        "print(\"w5 =\",wopt[4])"
      ],
      "execution_count": 246,
      "outputs": [
        {
          "output_type": "stream",
          "text": [
            "Hasil Minim Resiko adalah :\n",
            "w1 = 0.3310507846125349\n",
            "w2 = 0.10643994109418714\n",
            "w3 = 0.26416639508446677\n",
            "w4 = 0.047600323999723616\n",
            "w5 = 0.2507425552090875\n"
          ],
          "name": "stdout"
        }
      ]
    },
    {
      "cell_type": "code",
      "metadata": {
        "id": "Z8w8fIhNFlSb",
        "colab_type": "code",
        "outputId": "6c79de0a-32e0-4989-febe-b954021949e9",
        "colab": {
          "base_uri": "https://localhost:8080/",
          "height": 51
        }
      },
      "source": [
        "#Menghitung nilai harapan return dan nilai Resiko\n",
        "wopt1 = np.transpose(wopt1)\n",
        "resiko1 = wopt1.dot(df).dot(wopt1)\n",
        "Ek1 = np.dot(return_rata,wopt1)\n",
        "print(\"Nilai Harapan 1 (Ek) =\",Ek1)\n",
        "print(\"Nilai Resiko 1 =\",resiko1)"
      ],
      "execution_count": 247,
      "outputs": [
        {
          "output_type": "stream",
          "text": [
            "Nilai Harapan 1 (Ek) = 0.004792601799946123\n",
            "Nilai Resiko 1 = 0.00017057034837002045\n"
          ],
          "name": "stdout"
        }
      ]
    },
    {
      "cell_type": "code",
      "metadata": {
        "id": "gIAHyloFVDKl",
        "colab_type": "code",
        "colab": {}
      },
      "source": [
        "#Portofolio return 1 \n",
        "en = 1\n",
        "Et = np.transpose(return_rata)\n",
        "\n",
        "matA = np.dot(u,Cinverse)\n",
        "matB = np.dot(return_rata,(Cinverse))\n",
        "mat1 = u.dot(Cinverse).dot(Et)\n",
        "mat2 = return_rata.dot(Cinverse).dot(Et)\n",
        "mat3 = u.dot(Cinverse).dot(uT)\n",
        "mat4 = return_rata.dot(Cinverse).dot(uT)\n",
        "\n",
        "A1 = np.array([[1,mat1],[en,mat2]])\n",
        "A2 = np.array([[mat3,1],[mat4,en]])\n",
        "A3 = np.array([[mat3,mat1],[mat4,mat2]])"
      ],
      "execution_count": 0,
      "outputs": []
    },
    {
      "cell_type": "code",
      "metadata": {
        "id": "MV1EYdyygkKD",
        "colab_type": "code",
        "colab": {}
      },
      "source": [
        "from numpy.linalg import det\n",
        "det1 = det([[1,mat1],[en,mat2]])\n",
        "det2 = det([[mat3,1],[mat4,en]])\n",
        "det3 = det([[mat3,mat1],[mat4,mat2]])\n",
        "\n",
        "wopt2 = ((det1*matA)+(det2*matB))/det3"
      ],
      "execution_count": 0,
      "outputs": []
    },
    {
      "cell_type": "code",
      "metadata": {
        "id": "25Y1_Sedhjuo",
        "colab_type": "code",
        "outputId": "2e919401-b6f7-4dfd-fc01-3521236197c7",
        "colab": {
          "base_uri": "https://localhost:8080/",
          "height": 51
        }
      },
      "source": [
        "wopt2 = np.transpose(wopt2)\n",
        "resiko2 = wopt2.dot(df).dot(wopt2)\n",
        "Ek2 = np.dot(return_rata,wopt2)\n",
        "print(\"Nilai Harapan 2 (Ek) =\",Ek2)\n",
        "print(\"Nilai Resiko 2 =\",resiko2)"
      ],
      "execution_count": 250,
      "outputs": [
        {
          "output_type": "stream",
          "text": [
            "Nilai Harapan 2 (Ek) = 0.9999999999999964\n",
            "Nilai Resiko 2 = 10.533296343666493\n"
          ],
          "name": "stdout"
        }
      ]
    },
    {
      "cell_type": "code",
      "metadata": {
        "id": "hQl_dIiphzyl",
        "colab_type": "code",
        "colab": {}
      },
      "source": [
        "#Portofolio return 1.5 \n",
        "en = 1.5\n",
        "Et = np.transpose(return_rata)\n",
        "\n",
        "matA = np.dot(u,Cinverse)\n",
        "matB = np.dot(return_rata,(Cinverse))\n",
        "mat1 = u.dot(Cinverse).dot(Et)\n",
        "mat2 = return_rata.dot(Cinverse).dot(Et)\n",
        "mat3 = u.dot(Cinverse).dot(uT)\n",
        "mat4 = return_rata.dot(Cinverse).dot(uT)\n",
        "\n",
        "A1 = np.array([[1,mat1],[en,mat2]])\n",
        "A2 = np.array([[mat3,1],[mat4,en]])\n",
        "A3 = np.array([[mat3,mat1],[mat4,mat2]])\n",
        "\n",
        "det1 = det([[1,mat1],[en,mat2]])\n",
        "det2 = det([[mat3,1],[mat4,en]])\n",
        "det3 = det([[mat3,mat1],[mat4,mat2]])\n",
        "\n",
        "wopt3 = ((det1*matA)+(det2*matB))/det3"
      ],
      "execution_count": 0,
      "outputs": []
    },
    {
      "cell_type": "code",
      "metadata": {
        "id": "80EujzuIjgYT",
        "colab_type": "code",
        "outputId": "9b261a76-39a4-4bb3-f455-aa44a0f9ab4a",
        "colab": {
          "base_uri": "https://localhost:8080/",
          "height": 51
        }
      },
      "source": [
        "wopt3 = np.transpose(wopt3)\n",
        "resiko3 = wopt3.dot(df).dot(wopt3)\n",
        "Ek3 = np.dot(return_rata,wopt3)\n",
        "print(\"Nilai Harapan 3 (Ek) =\",Ek3)\n",
        "print(\"Nilai Resiko 3 =\",resiko3)"
      ],
      "execution_count": 252,
      "outputs": [
        {
          "output_type": "stream",
          "text": [
            "Nilai Harapan 3 (Ek) = 1.4999999999999996\n",
            "Nilai Resiko 3 = 23.775850895678218\n"
          ],
          "name": "stdout"
        }
      ]
    },
    {
      "cell_type": "code",
      "metadata": {
        "id": "UEhb1fpTjx1H",
        "colab_type": "code",
        "colab": {}
      },
      "source": [
        "#Portofolio return 2 \n",
        "en = 2\n",
        "Et = np.transpose(return_rata)\n",
        "\n",
        "matA = np.dot(u,Cinverse)\n",
        "matB = np.dot(return_rata,(Cinverse))\n",
        "mat1 = u.dot(Cinverse).dot(Et)\n",
        "mat2 = return_rata.dot(Cinverse).dot(Et)\n",
        "mat3 = u.dot(Cinverse).dot(uT)\n",
        "mat4 = return_rata.dot(Cinverse).dot(uT)\n",
        "\n",
        "A1 = np.array([[1,mat1],[en,mat2]])\n",
        "A2 = np.array([[mat3,1],[mat4,en]])\n",
        "A3 = np.array([[mat3,mat1],[mat4,mat2]])\n",
        "\n",
        "det1 = det([[1,mat1],[en,mat2]])\n",
        "det2 = det([[mat3,1],[mat4,en]])\n",
        "det3 = det([[mat3,mat1],[mat4,mat2]])\n",
        "\n",
        "wopt4 = ((det1*matA)+(det2*matB))/det3"
      ],
      "execution_count": 0,
      "outputs": []
    },
    {
      "cell_type": "code",
      "metadata": {
        "id": "zx7Bc1KolOvY",
        "colab_type": "code",
        "outputId": "45a460a5-be86-4482-b9c6-6c88ba6f8009",
        "colab": {
          "base_uri": "https://localhost:8080/",
          "height": 51
        }
      },
      "source": [
        "wopt4 = np.transpose(wopt4)\n",
        "resiko4 = wopt4.dot(df).dot(wopt4)\n",
        "Ek4 = np.dot(return_rata,wopt4)\n",
        "print(\"Nilai Harapan 4 (Ek) =\",Ek4)\n",
        "print(\"Nilai Resiko 4 =\",resiko4)"
      ],
      "execution_count": 254,
      "outputs": [
        {
          "output_type": "stream",
          "text": [
            "Nilai Harapan 4 (Ek) = 1.9999999999999947\n",
            "Nilai Resiko 4 = 42.33581464841968\n"
          ],
          "name": "stdout"
        }
      ]
    },
    {
      "cell_type": "code",
      "metadata": {
        "id": "2b8Efozcl_6Y",
        "colab_type": "code",
        "colab": {}
      },
      "source": [
        "#Portofolio return 2.5 \n",
        "en = 2.5\n",
        "Et = np.transpose(return_rata)\n",
        "\n",
        "matA = np.dot(u,Cinverse)\n",
        "matB = np.dot(return_rata,(Cinverse))\n",
        "mat1 = u.dot(Cinverse).dot(Et)\n",
        "mat2 = return_rata.dot(Cinverse).dot(Et)\n",
        "mat3 = u.dot(Cinverse).dot(uT)\n",
        "mat4 = return_rata.dot(Cinverse).dot(uT)\n",
        "\n",
        "A1 = np.array([[1,mat1],[en,mat2]])\n",
        "A2 = np.array([[mat3,1],[mat4,en]])\n",
        "A3 = np.array([[mat3,mat1],[mat4,mat2]])\n",
        "\n",
        "det1 = det([[1,mat1],[en,mat2]])\n",
        "det2 = det([[mat3,1],[mat4,en]])\n",
        "det3 = det([[mat3,mat1],[mat4,mat2]])\n",
        "\n",
        "wopt5 = ((det1*matA)+(det2*matB))/det3"
      ],
      "execution_count": 0,
      "outputs": []
    },
    {
      "cell_type": "code",
      "metadata": {
        "id": "wMkTKkvjmKhT",
        "colab_type": "code",
        "outputId": "4ecfccfd-e59a-40af-9004-e0dc9f12604e",
        "colab": {
          "base_uri": "https://localhost:8080/",
          "height": 51
        }
      },
      "source": [
        "wopt5 = np.transpose(wopt5)\n",
        "resiko5 = wopt5.dot(df).dot(wopt5)\n",
        "Ek5 = np.dot(return_rata,wopt5)\n",
        "print(\"Nilai Harapan 5 (Ek) =\",Ek5)\n",
        "print(\"Nilai Resiko 5 =\",resiko5)"
      ],
      "execution_count": 256,
      "outputs": [
        {
          "output_type": "stream",
          "text": [
            "Nilai Harapan 5 (Ek) = 2.499999999999994\n",
            "Nilai Resiko 5 = 66.21318760189105\n"
          ],
          "name": "stdout"
        }
      ]
    },
    {
      "cell_type": "code",
      "metadata": {
        "id": "aST9t_DpmUFQ",
        "colab_type": "code",
        "outputId": "cd1243ac-fc91-4ae4-9d4b-23204f5e1f18",
        "colab": {
          "base_uri": "https://localhost:8080/",
          "height": 312
        }
      },
      "source": [
        "#Memvisualisasikan Total nilai Harapan dan Nilai Resiko\n",
        "x = np.array([Ek1,Ek2,Ek3,Ek4,Ek5])\n",
        "y = np.array([resiko1,resiko2,resiko3,resiko4,resiko5])\n",
        "plt.plot(x,y)\n",
        "plt.scatter(x, y, c='red');\n",
        "plt.title(\"Gambar Grafik\")\n",
        "plt.xlabel(\"Nilai Harapan (Ek)\")\n",
        "plt.ylabel(\"Resiko\")"
      ],
      "execution_count": 257,
      "outputs": [
        {
          "output_type": "execute_result",
          "data": {
            "text/plain": [
              "Text(0, 0.5, 'Resiko')"
            ]
          },
          "metadata": {
            "tags": []
          },
          "execution_count": 257
        },
        {
          "output_type": "display_data",
          "data": {
            "image/png": "[encoded data removed]",
            "text/plain": [
              "<Figure size 432x288 with 1 Axes>"
            ]
          },
          "metadata": {
            "tags": [],
            "needs_background": "light"
          }
        }
      ]
    },
    {
      "cell_type": "markdown",
      "metadata": {
        "id": "2mPMqR7dXOZ1",
        "colab_type": "text"
      },
      "source": [
        "PENGUJIAN (Data2019)"
      ]
    },
    {
      "cell_type": "code",
      "metadata": {
        "id": "H_Wypw-1POrq",
        "colab_type": "code",
        "colab": {
          "base_uri": "https://localhost:8080/",
          "height": 235
        },
        "outputId": "7974c30c-884a-4bb5-efea-6a1803d75299"
      },
      "source": [
        "saham = ['BBCA.JK','BBRI.JK','TLKM.JK','JPFA.JK','ICBP.JK']\n",
        "saham.sort()\n",
        "data = yf.download(saham, start='2019-01-01', end='2019-12-31',progress=False, interval='1wk')['Close']\n",
        "data.head()"
      ],
      "execution_count": 258,
      "outputs": [
        {
          "output_type": "execute_result",
          "data": {
            "text/html": [
              "<div>\n",
              "<style scoped>\n",
              "    .dataframe tbody tr th:only-of-type {\n",
              "        vertical-align: middle;\n",
              "    }\n",
              "\n",
              "    .dataframe tbody tr th {\n",
              "        vertical-align: top;\n",
              "    }\n",
              "\n",
              "    .dataframe thead th {\n",
              "        text-align: right;\n",
              "    }\n",
              "</style>\n",
              "<table border=\"1\" class=\"dataframe\">\n",
              "  <thead>\n",
              "    <tr style=\"text-align: right;\">\n",
              "      <th></th>\n",
              "      <th>BBCA.JK</th>\n",
              "      <th>BBRI.JK</th>\n",
              "      <th>ICBP.JK</th>\n",
              "      <th>JPFA.JK</th>\n",
              "      <th>TLKM.JK</th>\n",
              "    </tr>\n",
              "    <tr>\n",
              "      <th>Date</th>\n",
              "      <th></th>\n",
              "      <th></th>\n",
              "      <th></th>\n",
              "      <th></th>\n",
              "      <th></th>\n",
              "    </tr>\n",
              "  </thead>\n",
              "  <tbody>\n",
              "    <tr>\n",
              "      <th>2019-01-01</th>\n",
              "      <td>26225.0</td>\n",
              "      <td>3660.0</td>\n",
              "      <td>10350.0</td>\n",
              "      <td>2250.0</td>\n",
              "      <td>3770.0</td>\n",
              "    </tr>\n",
              "    <tr>\n",
              "      <th>2019-01-08</th>\n",
              "      <td>26000.0</td>\n",
              "      <td>3790.0</td>\n",
              "      <td>10000.0</td>\n",
              "      <td>2160.0</td>\n",
              "      <td>3850.0</td>\n",
              "    </tr>\n",
              "    <tr>\n",
              "      <th>2019-01-15</th>\n",
              "      <td>27725.0</td>\n",
              "      <td>3800.0</td>\n",
              "      <td>10200.0</td>\n",
              "      <td>2230.0</td>\n",
              "      <td>4030.0</td>\n",
              "    </tr>\n",
              "    <tr>\n",
              "      <th>2019-01-22</th>\n",
              "      <td>27475.0</td>\n",
              "      <td>3780.0</td>\n",
              "      <td>10750.0</td>\n",
              "      <td>2850.0</td>\n",
              "      <td>3780.0</td>\n",
              "    </tr>\n",
              "    <tr>\n",
              "      <th>2019-01-29</th>\n",
              "      <td>27500.0</td>\n",
              "      <td>3900.0</td>\n",
              "      <td>10650.0</td>\n",
              "      <td>3020.0</td>\n",
              "      <td>3780.0</td>\n",
              "    </tr>\n",
              "  </tbody>\n",
              "</table>\n",
              "</div>"
            ],
            "text/plain": [
              "            BBCA.JK  BBRI.JK  ICBP.JK  JPFA.JK  TLKM.JK\n",
              "Date                                                   \n",
              "2019-01-01  26225.0   3660.0  10350.0   2250.0   3770.0\n",
              "2019-01-08  26000.0   3790.0  10000.0   2160.0   3850.0\n",
              "2019-01-15  27725.0   3800.0  10200.0   2230.0   4030.0\n",
              "2019-01-22  27475.0   3780.0  10750.0   2850.0   3780.0\n",
              "2019-01-29  27500.0   3900.0  10650.0   3020.0   3780.0"
            ]
          },
          "metadata": {
            "tags": []
          },
          "execution_count": 258
        }
      ]
    },
    {
      "cell_type": "code",
      "metadata": {
        "id": "fxRJG6-vTgdp",
        "colab_type": "code",
        "colab": {
          "base_uri": "https://localhost:8080/",
          "height": 235
        },
        "outputId": "76a9b7d0-59fe-4889-f3f6-5d980a3e5de6"
      },
      "source": [
        "#Nge-return data saham mingguan\n",
        "return_mingguan = data.pct_change()\n",
        "return_mingguan.head()"
      ],
      "execution_count": 259,
      "outputs": [
        {
          "output_type": "execute_result",
          "data": {
            "text/html": [
              "<div>\n",
              "<style scoped>\n",
              "    .dataframe tbody tr th:only-of-type {\n",
              "        vertical-align: middle;\n",
              "    }\n",
              "\n",
              "    .dataframe tbody tr th {\n",
              "        vertical-align: top;\n",
              "    }\n",
              "\n",
              "    .dataframe thead th {\n",
              "        text-align: right;\n",
              "    }\n",
              "</style>\n",
              "<table border=\"1\" class=\"dataframe\">\n",
              "  <thead>\n",
              "    <tr style=\"text-align: right;\">\n",
              "      <th></th>\n",
              "      <th>BBCA.JK</th>\n",
              "      <th>BBRI.JK</th>\n",
              "      <th>ICBP.JK</th>\n",
              "      <th>JPFA.JK</th>\n",
              "      <th>TLKM.JK</th>\n",
              "    </tr>\n",
              "    <tr>\n",
              "      <th>Date</th>\n",
              "      <th></th>\n",
              "      <th></th>\n",
              "      <th></th>\n",
              "      <th></th>\n",
              "      <th></th>\n",
              "    </tr>\n",
              "  </thead>\n",
              "  <tbody>\n",
              "    <tr>\n",
              "      <th>2019-01-01</th>\n",
              "      <td>NaN</td>\n",
              "      <td>NaN</td>\n",
              "      <td>NaN</td>\n",
              "      <td>NaN</td>\n",
              "      <td>NaN</td>\n",
              "    </tr>\n",
              "    <tr>\n",
              "      <th>2019-01-08</th>\n",
              "      <td>-0.008580</td>\n",
              "      <td>0.035519</td>\n",
              "      <td>-0.033816</td>\n",
              "      <td>-0.040000</td>\n",
              "      <td>0.021220</td>\n",
              "    </tr>\n",
              "    <tr>\n",
              "      <th>2019-01-15</th>\n",
              "      <td>0.066346</td>\n",
              "      <td>0.002639</td>\n",
              "      <td>0.020000</td>\n",
              "      <td>0.032407</td>\n",
              "      <td>0.046753</td>\n",
              "    </tr>\n",
              "    <tr>\n",
              "      <th>2019-01-22</th>\n",
              "      <td>-0.009017</td>\n",
              "      <td>-0.005263</td>\n",
              "      <td>0.053922</td>\n",
              "      <td>0.278027</td>\n",
              "      <td>-0.062035</td>\n",
              "    </tr>\n",
              "    <tr>\n",
              "      <th>2019-01-29</th>\n",
              "      <td>0.000910</td>\n",
              "      <td>0.031746</td>\n",
              "      <td>-0.009302</td>\n",
              "      <td>0.059649</td>\n",
              "      <td>0.000000</td>\n",
              "    </tr>\n",
              "  </tbody>\n",
              "</table>\n",
              "</div>"
            ],
            "text/plain": [
              "             BBCA.JK   BBRI.JK   ICBP.JK   JPFA.JK   TLKM.JK\n",
              "Date                                                        \n",
              "2019-01-01       NaN       NaN       NaN       NaN       NaN\n",
              "2019-01-08 -0.008580  0.035519 -0.033816 -0.040000  0.021220\n",
              "2019-01-15  0.066346  0.002639  0.020000  0.032407  0.046753\n",
              "2019-01-22 -0.009017 -0.005263  0.053922  0.278027 -0.062035\n",
              "2019-01-29  0.000910  0.031746 -0.009302  0.059649  0.000000"
            ]
          },
          "metadata": {
            "tags": []
          },
          "execution_count": 259
        }
      ]
    },
    {
      "cell_type": "code",
      "metadata": {
        "id": "hBU92PNQToaM",
        "colab_type": "code",
        "colab": {
          "base_uri": "https://localhost:8080/",
          "height": 119
        },
        "outputId": "2d4ad172-8c54-494e-8be5-517666a8e9b3"
      },
      "source": [
        "#Nge-return rata-rata mingguan\n",
        "return_rata = return_mingguan.mean()\n",
        "return_rata.head()"
      ],
      "execution_count": 260,
      "outputs": [
        {
          "output_type": "execute_result",
          "data": {
            "text/plain": [
              "BBCA.JK    0.004276\n",
              "BBRI.JK    0.003474\n",
              "ICBP.JK    0.001539\n",
              "JPFA.JK   -0.004493\n",
              "TLKM.JK    0.001180\n",
              "dtype: float64"
            ]
          },
          "metadata": {
            "tags": []
          },
          "execution_count": 260
        }
      ]
    },
    {
      "cell_type": "code",
      "metadata": {
        "id": "D2rAg5TYTurL",
        "colab_type": "code",
        "colab": {
          "base_uri": "https://localhost:8080/",
          "height": 119
        },
        "outputId": "8f5be9f6-9ebc-40d3-ba88-ff05de489f01"
      },
      "source": [
        "print(str(round(return_rata * 100,2)) + '%')"
      ],
      "execution_count": 261,
      "outputs": [
        {
          "output_type": "stream",
          "text": [
            "BBCA.JK    0.43\n",
            "BBRI.JK    0.35\n",
            "ICBP.JK    0.15\n",
            "JPFA.JK   -0.45\n",
            "TLKM.JK    0.12\n",
            "dtype: float64%\n"
          ],
          "name": "stdout"
        }
      ]
    },
    {
      "cell_type": "code",
      "metadata": {
        "id": "r4L5HKQaTw4A",
        "colab_type": "code",
        "colab": {
          "base_uri": "https://localhost:8080/",
          "height": 204
        },
        "outputId": "8558370f-1c8e-4c17-d617-f55b55eb1880"
      },
      "source": [
        "#Covariansi\n",
        "df = return_mingguan.cov()\n",
        "df.head()"
      ],
      "execution_count": 262,
      "outputs": [
        {
          "output_type": "execute_result",
          "data": {
            "text/html": [
              "<div>\n",
              "<style scoped>\n",
              "    .dataframe tbody tr th:only-of-type {\n",
              "        vertical-align: middle;\n",
              "    }\n",
              "\n",
              "    .dataframe tbody tr th {\n",
              "        vertical-align: top;\n",
              "    }\n",
              "\n",
              "    .dataframe thead th {\n",
              "        text-align: right;\n",
              "    }\n",
              "</style>\n",
              "<table border=\"1\" class=\"dataframe\">\n",
              "  <thead>\n",
              "    <tr style=\"text-align: right;\">\n",
              "      <th></th>\n",
              "      <th>BBCA.JK</th>\n",
              "      <th>BBRI.JK</th>\n",
              "      <th>ICBP.JK</th>\n",
              "      <th>JPFA.JK</th>\n",
              "      <th>TLKM.JK</th>\n",
              "    </tr>\n",
              "  </thead>\n",
              "  <tbody>\n",
              "    <tr>\n",
              "      <th>BBCA.JK</th>\n",
              "      <td>0.000323</td>\n",
              "      <td>0.000217</td>\n",
              "      <td>0.000107</td>\n",
              "      <td>0.000169</td>\n",
              "      <td>0.000231</td>\n",
              "    </tr>\n",
              "    <tr>\n",
              "      <th>BBRI.JK</th>\n",
              "      <td>0.000217</td>\n",
              "      <td>0.000702</td>\n",
              "      <td>-0.000045</td>\n",
              "      <td>0.000246</td>\n",
              "      <td>0.000304</td>\n",
              "    </tr>\n",
              "    <tr>\n",
              "      <th>ICBP.JK</th>\n",
              "      <td>0.000107</td>\n",
              "      <td>-0.000045</td>\n",
              "      <td>0.000554</td>\n",
              "      <td>0.000379</td>\n",
              "      <td>0.000037</td>\n",
              "    </tr>\n",
              "    <tr>\n",
              "      <th>JPFA.JK</th>\n",
              "      <td>0.000169</td>\n",
              "      <td>0.000246</td>\n",
              "      <td>0.000379</td>\n",
              "      <td>0.004135</td>\n",
              "      <td>-0.000044</td>\n",
              "    </tr>\n",
              "    <tr>\n",
              "      <th>TLKM.JK</th>\n",
              "      <td>0.000231</td>\n",
              "      <td>0.000304</td>\n",
              "      <td>0.000037</td>\n",
              "      <td>-0.000044</td>\n",
              "      <td>0.000620</td>\n",
              "    </tr>\n",
              "  </tbody>\n",
              "</table>\n",
              "</div>"
            ],
            "text/plain": [
              "          BBCA.JK   BBRI.JK   ICBP.JK   JPFA.JK   TLKM.JK\n",
              "BBCA.JK  0.000323  0.000217  0.000107  0.000169  0.000231\n",
              "BBRI.JK  0.000217  0.000702 -0.000045  0.000246  0.000304\n",
              "ICBP.JK  0.000107 -0.000045  0.000554  0.000379  0.000037\n",
              "JPFA.JK  0.000169  0.000246  0.000379  0.004135 -0.000044\n",
              "TLKM.JK  0.000231  0.000304  0.000037 -0.000044  0.000620"
            ]
          },
          "metadata": {
            "tags": []
          },
          "execution_count": 262
        }
      ]
    },
    {
      "cell_type": "code",
      "metadata": {
        "id": "U9gruwJaT06D",
        "colab_type": "code",
        "colab": {
          "base_uri": "https://localhost:8080/",
          "height": 119
        },
        "outputId": "443e85fa-f73a-435a-e3e9-6c7bf6e28406"
      },
      "source": [
        "#Portofolio Minim Resiko\n",
        "u = np.array([1,1,1,1,1])\n",
        "uT = np.transpose(u)\n",
        "Cinverse = inv(df)\n",
        "wopt1 = np.dot(u,Cinverse)/(u.dot(Cinverse).dot(uT))\n",
        "print(\"Hasil Minim Resiko adalah :\")\n",
        "print(\"w1 =\",wopt[0])\n",
        "print(\"w2 =\",wopt[1])\n",
        "print(\"w3 =\",wopt[2])\n",
        "print(\"w4 =\",wopt[3])\n",
        "print(\"w5 =\",wopt[4])"
      ],
      "execution_count": 263,
      "outputs": [
        {
          "output_type": "stream",
          "text": [
            "Hasil Minim Resiko adalah :\n",
            "w1 = 0.3310507846125349\n",
            "w2 = 0.10643994109418714\n",
            "w3 = 0.26416639508446677\n",
            "w4 = 0.047600323999723616\n",
            "w5 = 0.2507425552090875\n"
          ],
          "name": "stdout"
        }
      ]
    },
    {
      "cell_type": "code",
      "metadata": {
        "id": "Cp1bRsinT40u",
        "colab_type": "code",
        "colab": {
          "base_uri": "https://localhost:8080/",
          "height": 51
        },
        "outputId": "e869312d-771b-4201-cbab-8b5d20cc04fb"
      },
      "source": [
        "#Menghitung nilai harapan return dan nilai Resiko\n",
        "wopt1 = np.transpose(wopt1)\n",
        "resiko1 = wopt1.dot(df).dot(wopt1)\n",
        "Ek1 = np.dot(return_rata,wopt1)\n",
        "print(\"Nilai Harapan Uji 1 (Ek) =\",Ek1)\n",
        "print(\"Nilai Resiko Uji 1 =\",resiko1)"
      ],
      "execution_count": 264,
      "outputs": [
        {
          "output_type": "stream",
          "text": [
            "Nilai Harapan Uji 1 (Ek) = 0.0028923655919574935\n",
            "Nilai Resiko Uji 1 = 0.00022219175798677589\n"
          ],
          "name": "stdout"
        }
      ]
    },
    {
      "cell_type": "code",
      "metadata": {
        "id": "Oy8i2x0dT9qM",
        "colab_type": "code",
        "colab": {}
      },
      "source": [
        "#Portofolio return 1 (Uji)\n",
        "en = 1\n",
        "Et = np.transpose(return_rata)\n",
        "\n",
        "matA = np.dot(u,Cinverse)\n",
        "matB = np.dot(return_rata,(Cinverse))\n",
        "mat1 = u.dot(Cinverse).dot(Et)\n",
        "mat2 = return_rata.dot(Cinverse).dot(Et)\n",
        "mat3 = u.dot(Cinverse).dot(uT)\n",
        "mat4 = return_rata.dot(Cinverse).dot(uT)\n",
        "\n",
        "A1 = np.array([[1,mat1],[en,mat2]])\n",
        "A2 = np.array([[mat3,1],[mat4,en]])\n",
        "A3 = np.array([[mat3,mat1],[mat4,mat2]])"
      ],
      "execution_count": 0,
      "outputs": []
    },
    {
      "cell_type": "code",
      "metadata": {
        "id": "n9Bb5s_eUCxZ",
        "colab_type": "code",
        "colab": {}
      },
      "source": [
        "det1 = det([[1,mat1],[en,mat2]])\n",
        "det2 = det([[mat3,1],[mat4,en]])\n",
        "det3 = det([[mat3,mat1],[mat4,mat2]])\n",
        "\n",
        "wopt2 = ((det1*matA)+(det2*matB))/det3"
      ],
      "execution_count": 0,
      "outputs": []
    },
    {
      "cell_type": "code",
      "metadata": {
        "id": "rJ7m1RJ0UGRR",
        "colab_type": "code",
        "colab": {
          "base_uri": "https://localhost:8080/",
          "height": 51
        },
        "outputId": "b5e3f743-1a78-44a8-96b2-63f715da3b44"
      },
      "source": [
        "wopt2 = np.transpose(wopt2)\n",
        "resiko2 = wopt2.dot(df).dot(wopt2)\n",
        "Ek2 = np.dot(return_rata,wopt2)\n",
        "print(\"Nilai Harapan Uji 2 (Ek) =\",Ek2)\n",
        "print(\"Nilai Resiko Uji 2 =\",resiko2)"
      ],
      "execution_count": 267,
      "outputs": [
        {
          "output_type": "stream",
          "text": [
            "Nilai Harapan Uji 2 (Ek) = 1.000000000000001\n",
            "Nilai Resiko Uji 2 = 21.059295423726606\n"
          ],
          "name": "stdout"
        }
      ]
    },
    {
      "cell_type": "code",
      "metadata": {
        "id": "kBQlMl00UMf2",
        "colab_type": "code",
        "colab": {}
      },
      "source": [
        "#Portofolio return 1.5 (Uji)\n",
        "en = 1.5\n",
        "Et = np.transpose(return_rata)\n",
        "\n",
        "matA = np.dot(u,Cinverse)\n",
        "matB = np.dot(return_rata,(Cinverse))\n",
        "mat1 = u.dot(Cinverse).dot(Et)\n",
        "mat2 = return_rata.dot(Cinverse).dot(Et)\n",
        "mat3 = u.dot(Cinverse).dot(uT)\n",
        "mat4 = return_rata.dot(Cinverse).dot(uT)\n",
        "\n",
        "A1 = np.array([[1,mat1],[en,mat2]])\n",
        "A2 = np.array([[mat3,1],[mat4,en]])\n",
        "A3 = np.array([[mat3,mat1],[mat4,mat2]])\n",
        "\n",
        "det1 = det([[1,mat1],[en,mat2]])\n",
        "det2 = det([[mat3,1],[mat4,en]])\n",
        "det3 = det([[mat3,mat1],[mat4,mat2]])\n",
        "\n",
        "wopt3 = ((det1*matA)+(det2*matB))/det3"
      ],
      "execution_count": 0,
      "outputs": []
    },
    {
      "cell_type": "code",
      "metadata": {
        "id": "LYGeJKIyUXlm",
        "colab_type": "code",
        "colab": {
          "base_uri": "https://localhost:8080/",
          "height": 51
        },
        "outputId": "81e8dceb-c236-42ba-ebe1-b151c8e733bd"
      },
      "source": [
        "wopt3 = np.transpose(wopt3)\n",
        "resiko3 = wopt3.dot(df).dot(wopt3)\n",
        "Ek3 = np.dot(return_rata,wopt3)\n",
        "print(\"Nilai Harapan Uji 3 (Ek) =\",Ek3)\n",
        "print(\"Nilai Resiko Uji 3 =\",resiko3)"
      ],
      "execution_count": 269,
      "outputs": [
        {
          "output_type": "stream",
          "text": [
            "Nilai Harapan Uji 3 (Ek) = 1.4999999999999991\n",
            "Nilai Resiko Uji 3 = 47.47481210157096\n"
          ],
          "name": "stdout"
        }
      ]
    },
    {
      "cell_type": "code",
      "metadata": {
        "id": "111CH6rEUZ5Q",
        "colab_type": "code",
        "colab": {}
      },
      "source": [
        "#Portofolio return 2 (Uji)\n",
        "en = 2\n",
        "Et = np.transpose(return_rata)\n",
        "\n",
        "matA = np.dot(u,Cinverse)\n",
        "matB = np.dot(return_rata,(Cinverse))\n",
        "mat1 = u.dot(Cinverse).dot(Et)\n",
        "mat2 = return_rata.dot(Cinverse).dot(Et)\n",
        "mat3 = u.dot(Cinverse).dot(uT)\n",
        "mat4 = return_rata.dot(Cinverse).dot(uT)\n",
        "\n",
        "A1 = np.array([[1,mat1],[en,mat2]])\n",
        "A2 = np.array([[mat3,1],[mat4,en]])\n",
        "A3 = np.array([[mat3,mat1],[mat4,mat2]])\n",
        "\n",
        "det1 = det([[1,mat1],[en,mat2]])\n",
        "det2 = det([[mat3,1],[mat4,en]])\n",
        "det3 = det([[mat3,mat1],[mat4,mat2]])\n",
        "\n",
        "wopt4 = ((det1*matA)+(det2*matB))/det3"
      ],
      "execution_count": 0,
      "outputs": []
    },
    {
      "cell_type": "code",
      "metadata": {
        "id": "PcPNfOa2Uca9",
        "colab_type": "code",
        "colab": {
          "base_uri": "https://localhost:8080/",
          "height": 51
        },
        "outputId": "15e718d1-2793-4d23-9409-b0d572bf7ebe"
      },
      "source": [
        "wopt4 = np.transpose(wopt4)\n",
        "resiko4 = wopt4.dot(df).dot(wopt4)\n",
        "Ek4 = np.dot(return_rata,wopt4)\n",
        "print(\"Nilai Harapan Uji 4 (Ek) =\",Ek4)\n",
        "print(\"Nilai Resiko Uji 4 =\",resiko4)"
      ],
      "execution_count": 271,
      "outputs": [
        {
          "output_type": "stream",
          "text": [
            "Nilai Harapan Uji 4 (Ek) = 1.9999999999999996\n",
            "Nilai Resiko Uji 4 = 84.48104122035997\n"
          ],
          "name": "stdout"
        }
      ]
    },
    {
      "cell_type": "code",
      "metadata": {
        "id": "MgYHbdfYUhZu",
        "colab_type": "code",
        "colab": {}
      },
      "source": [
        "#Portofolio return 2.5 (Uji)\n",
        "en = 2.5\n",
        "Et = np.transpose(return_rata)\n",
        "\n",
        "matA = np.dot(u,Cinverse)\n",
        "matB = np.dot(return_rata,(Cinverse))\n",
        "mat1 = u.dot(Cinverse).dot(Et)\n",
        "mat2 = return_rata.dot(Cinverse).dot(Et)\n",
        "mat3 = u.dot(Cinverse).dot(uT)\n",
        "mat4 = return_rata.dot(Cinverse).dot(uT)\n",
        "\n",
        "A1 = np.array([[1,mat1],[en,mat2]])\n",
        "A2 = np.array([[mat3,1],[mat4,en]])\n",
        "A3 = np.array([[mat3,mat1],[mat4,mat2]])\n",
        "\n",
        "det1 = det([[1,mat1],[en,mat2]])\n",
        "det2 = det([[mat3,1],[mat4,en]])\n",
        "det3 = det([[mat3,mat1],[mat4,mat2]])\n",
        "\n",
        "wopt5 = ((det1*matA)+(det2*matB))/det3"
      ],
      "execution_count": 0,
      "outputs": []
    },
    {
      "cell_type": "code",
      "metadata": {
        "id": "9TNO3JxgUkMl",
        "colab_type": "code",
        "colab": {
          "base_uri": "https://localhost:8080/",
          "height": 51
        },
        "outputId": "41aa3953-d602-45a1-e66a-79db6690eca1"
      },
      "source": [
        "wopt5 = np.transpose(wopt5)\n",
        "resiko5 = wopt5.dot(df).dot(wopt5)\n",
        "Ek5 = np.dot(return_rata,wopt5)\n",
        "print(\"Nilai Harapan Uji 5 (Ek) =\",Ek5)\n",
        "print(\"Nilai Resiko Uji 5 =\",resiko5)"
      ],
      "execution_count": 273,
      "outputs": [
        {
          "output_type": "stream",
          "text": [
            "Nilai Harapan Uji 5 (Ek) = 2.5\n",
            "Nilai Resiko Uji 5 = 132.07798278009352\n"
          ],
          "name": "stdout"
        }
      ]
    },
    {
      "cell_type": "code",
      "metadata": {
        "id": "sNVoCnVkUmD7",
        "colab_type": "code",
        "colab": {
          "base_uri": "https://localhost:8080/",
          "height": 312
        },
        "outputId": "06c67796-51cc-4c56-ecb1-b4b5bf9e9e67"
      },
      "source": [
        "#Memvisualisasikan Total nilai Harapan dan Nilai Resiko (Uji)\n",
        "x_uji = np.array([Ek1,Ek2,Ek3,Ek4,Ek5])\n",
        "y_uji = np.array([resiko1,resiko2,resiko3,resiko4,resiko5])\n",
        "plt.plot(x_uji,y_uji)\n",
        "plt.scatter(x_uji, y_uji, c='green');\n",
        "plt.title(\"Gambar Grafik Uji\")\n",
        "plt.xlabel(\"Nilai Harapan Uji (Ek)\")\n",
        "plt.ylabel(\"Resiko Uji\")"
      ],
      "execution_count": 274,
      "outputs": [
        {
          "output_type": "execute_result",
          "data": {
            "text/plain": [
              "Text(0, 0.5, 'Resiko Uji')"
            ]
          },
          "metadata": {
            "tags": []
          },
          "execution_count": 274
        },
        {
          "output_type": "display_data",
          "data": {
            "image/png": "[encoded data removed]",
            "text/plain": [
              "<Figure size 432x288 with 1 Axes>"
            ]
          },
          "metadata": {
            "tags": [],
            "needs_background": "light"
          }
        }
      ]
    },
    {
      "cell_type": "markdown",
      "metadata": {
        "id": "PgpMVUF5bGYT",
        "colab_type": "text"
      },
      "source": [
        "Penggabungan Data Awal (2017) dengan Data Pengujian (2019) "
      ]
    },
    {
      "cell_type": "code",
      "metadata": {
        "id": "wRQoUNGEUory",
        "colab_type": "code",
        "colab": {
          "base_uri": "https://localhost:8080/",
          "height": 295
        },
        "outputId": "7fe7a2c6-9649-4629-e5f9-e42cef8fed25"
      },
      "source": [
        "plt.plot(x, y)\n",
        "plt.plot(x_uji, y_uji)\n",
        "plt.scatter(x, y, color='red')\n",
        "plt.scatter(x_uji, y_uji, color='green')\n",
        "plt.title(\"Hasil\")\n",
        "plt.xlabel(\"Nilai Harapan (Ek)\")\n",
        "plt.ylabel(\"Resiko\")\n",
        "plt.show()"
      ],
      "execution_count": 278,
      "outputs": [
        {
          "output_type": "display_data",
          "data": {
            "image/png": "[encoded data removed]",
            "text/plain": [
              "<Figure size 432x288 with 1 Axes>"
            ]
          },
          "metadata": {
            "tags": [],
            "needs_background": "light"
          }
        }
      ]
    },
    {
      "cell_type": "code",
      "metadata": {
        "id": "WnBmduj-aVaA",
        "colab_type": "code",
        "colab": {}
      },
      "source": [
        ""
      ],
      "execution_count": 0,
      "outputs": []
    }
  ]
}